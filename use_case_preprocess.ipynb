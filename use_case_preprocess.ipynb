{
 "cells": [
  {
   "cell_type": "code",
   "execution_count": null,
   "id": "db89d2ca",
   "metadata": {},
   "outputs": [],
   "source": [
    "#Import all functions to load, preprocess the data\n",
    "import re \n",
    "import numpy as np\n",
    "import pandas as pd\n",
    "from model_process import pca\n",
    "from model_process import outlier_detection, apply_birch, apply_kmeans"
   ]
  },
  {
   "cell_type": "code",
   "execution_count": null,
   "id": "051b5b2e",
   "metadata": {},
   "outputs": [],
   "source": [
    "#Loading data with \"re\" module\n",
    "data = []\n",
    "with open('data/n2v_embeddings/test_embeds.txt') as f:\n",
    "    for row in f:\n",
    "        data.append(re.split(',', re.split(' ',row.strip('\\n'))[1]))\n",
    "data = np.array(data,dtype = float)"
   ]
  },
  {
   "cell_type": "code",
   "execution_count": null,
   "id": "d9b8ccf4",
   "metadata": {},
   "outputs": [],
   "source": [
    "#Detect outlier with z-score\n",
    "z_data = outlier_detection(data)"
   ]
  },
  {
   "cell_type": "code",
   "execution_count": null,
   "id": "46cf636d",
   "metadata": {},
   "outputs": [],
   "source": [
    "#Detect outlier with quantile range application\n",
    "q_data = outlier_detection(data, function='quantile')"
   ]
  },
  {
   "cell_type": "code",
   "execution_count": null,
   "id": "85acbd04",
   "metadata": {},
   "outputs": [],
   "source": [
    "#Applying clustering and PCA to data if needed\n",
    "pred_k = apply_kmeans(data, n = 2)\n",
    "pca(data, pred_k, plot = True)"
   ]
  }
 ],
 "metadata": {
  "kernelspec": {
   "display_name": "Python 3 (ipykernel)",
   "language": "python",
   "name": "python3"
  },
  "language_info": {
   "codemirror_mode": {
    "name": "ipython",
    "version": 3
   },
   "file_extension": ".py",
   "mimetype": "text/x-python",
   "name": "python",
   "nbconvert_exporter": "python",
   "pygments_lexer": "ipython3",
   "version": "3.7.6"
  }
 },
 "nbformat": 4,
 "nbformat_minor": 5
}
