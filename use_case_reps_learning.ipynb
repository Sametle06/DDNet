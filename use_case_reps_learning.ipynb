{
 "cells": [
  {
   "cell_type": "code",
   "execution_count": 1,
   "id": "7a715097",
   "metadata": {},
   "outputs": [],
   "source": [
    "#Import all functions to prepare training data\n",
    "from featurization.creating_paths import *\n",
    "from featurization import find_paths\n",
    "from featurization import gen_n2v, gen_matrix"
   ]
  },
  {
   "cell_type": "code",
   "execution_count": 2,
   "id": "47ebc8bb",
   "metadata": {},
   "outputs": [
    {
     "name": "stdout",
     "output_type": "stream",
     "text": [
      "The edgelist file is already exist\n"
     ]
    }
   ],
   "source": [
    "#creating graph from similarity matrices\n",
    "\n",
    "#get names of drugs\n",
    "names = get_names(file_name = 'data/datasets/test_data/names.txt')\n",
    "\n",
    "#get similarity matrices for graph construction\n",
    "sim_mat = get_sim_mat('data/datasets/test_data/sim_arr.txt')\n",
    "\n",
    "#create edgelist for graph and save it for further use\n",
    "edgelist_filename = 'data/edgelists/test_data.edgelist'\n",
    "create_edgelist(file_name = edgelist_filename,\n",
    "               similarity_matrix = sim_mat,\n",
    "               names = names,\n",
    "               sim_lim = 0.3)\n",
    "\n",
    "#Get graph by the name of edgelist file\n",
    "G = get_G(file_name = edgelist_filename)"
   ]
  },
  {
   "cell_type": "code",
   "execution_count": 4,
   "id": "41d40d9c",
   "metadata": {},
   "outputs": [
    {
     "name": "stderr",
     "output_type": "stream",
     "text": [
      "Computing transition probabilities: 100%|█████████████████████████████████████████████| 49/49 [00:00<00:00, 224.77it/s]\n",
      "Generating walks (CPU: 1): 100%|████████████████████████████████████████████████████████| 5/5 [00:00<00:00, 121.96it/s]\n",
      "Computing transition probabilities: 100%|█████████████████████████████████████████████| 49/49 [00:00<00:00, 230.04it/s]\n",
      "Generating walks (CPU: 1): 100%|████████████████████████████████████████████████████████| 5/5 [00:00<00:00, 192.28it/s]\n",
      "Computing transition probabilities: 100%|█████████████████████████████████████████████| 49/49 [00:00<00:00, 225.81it/s]\n",
      "Generating walks (CPU: 1): 100%|████████████████████████████████████████████████████████| 5/5 [00:00<00:00, 199.91it/s]\n",
      "Computing transition probabilities: 100%|█████████████████████████████████████████████| 49/49 [00:00<00:00, 226.85it/s]\n",
      "Generating walks (CPU: 1): 100%|████████████████████████████████████████████████████████| 5/5 [00:00<00:00, 199.91it/s]\n",
      "Computing transition probabilities: 100%|█████████████████████████████████████████████| 49/49 [00:00<00:00, 222.71it/s]\n",
      "Generating walks (CPU: 1): 100%|████████████████████████████████████████████████████████| 5/5 [00:00<00:00, 192.35it/s]\n",
      "Computing transition probabilities: 100%|█████████████████████████████████████████████| 49/49 [00:00<00:00, 226.85it/s]\n",
      "Generating walks (CPU: 1): 100%|████████████████████████████████████████████████████████| 5/5 [00:00<00:00, 185.27it/s]\n",
      "Computing transition probabilities: 100%|█████████████████████████████████████████████| 49/49 [00:00<00:00, 228.95it/s]\n",
      "Generating walks (CPU: 1): 100%|████████████████████████████████████████████████████████| 5/5 [00:00<00:00, 192.24it/s]\n",
      "Computing transition probabilities: 100%|█████████████████████████████████████████████| 49/49 [00:00<00:00, 217.79it/s]\n",
      "Generating walks (CPU: 1): 100%|████████████████████████████████████████████████████████| 5/5 [00:00<00:00, 200.09it/s]\n",
      "Computing transition probabilities: 100%|█████████████████████████████████████████████| 49/49 [00:00<00:00, 210.29it/s]\n",
      "Generating walks (CPU: 1): 100%|████████████████████████████████████████████████████████| 5/5 [00:00<00:00, 178.62it/s]\n",
      "Computing transition probabilities: 100%|█████████████████████████████████████████████| 49/49 [00:00<00:00, 219.23it/s]\n",
      "Generating walks (CPU: 1): 100%|████████████████████████████████████████████████████████| 5/5 [00:00<00:00, 192.25it/s]\n",
      "Computing transition probabilities: 100%|█████████████████████████████████████████████| 49/49 [00:00<00:00, 227.91it/s]\n",
      "Generating walks (CPU: 1): 100%|████████████████████████████████████████████████████████| 5/5 [00:00<00:00, 185.07it/s]\n",
      "Computing transition probabilities: 100%|█████████████████████████████████████████████| 49/49 [00:00<00:00, 228.95it/s]\n",
      "Generating walks (CPU: 1): 100%|████████████████████████████████████████████████████████| 5/5 [00:00<00:00, 192.16it/s]\n",
      "Computing transition probabilities: 100%|█████████████████████████████████████████████| 49/49 [00:00<00:00, 228.57it/s]\n",
      "Generating walks (CPU: 1): 100%|████████████████████████████████████████████████████████| 5/5 [00:00<00:00, 192.32it/s]\n",
      "Computing transition probabilities: 100%|█████████████████████████████████████████████| 49/49 [00:00<00:00, 226.85it/s]\n",
      "Generating walks (CPU: 1): 100%|████████████████████████████████████████████████████████| 5/5 [00:00<00:00, 192.17it/s]\n",
      "Computing transition probabilities: 100%|█████████████████████████████████████████████| 49/49 [00:00<00:00, 221.72it/s]\n",
      "Generating walks (CPU: 1): 100%|████████████████████████████████████████████████████████| 5/5 [00:00<00:00, 199.81it/s]\n",
      "Computing transition probabilities: 100%|█████████████████████████████████████████████| 49/49 [00:00<00:00, 226.83it/s]\n",
      "Generating walks (CPU: 1): 100%|████████████████████████████████████████████████████████| 5/5 [00:00<00:00, 185.11it/s]\n",
      "Computing transition probabilities: 100%|█████████████████████████████████████████████| 49/49 [00:00<00:00, 227.88it/s]\n",
      "Generating walks (CPU: 1): 100%|████████████████████████████████████████████████████████| 5/5 [00:00<00:00, 199.73it/s]\n",
      "Computing transition probabilities: 100%|█████████████████████████████████████████████| 49/49 [00:00<00:00, 223.75it/s]\n",
      "Generating walks (CPU: 1): 100%|████████████████████████████████████████████████████████| 5/5 [00:00<00:00, 200.02it/s]\n",
      "Computing transition probabilities: 100%|█████████████████████████████████████████████| 49/49 [00:00<00:00, 225.79it/s]\n",
      "Generating walks (CPU: 1): 100%|████████████████████████████████████████████████████████| 5/5 [00:00<00:00, 208.34it/s]\n",
      "Computing transition probabilities: 100%|█████████████████████████████████████████████| 49/49 [00:00<00:00, 228.95it/s]\n",
      "Generating walks (CPU: 1): 100%|████████████████████████████████████████████████████████| 5/5 [00:00<00:00, 192.19it/s]\n",
      "Computing transition probabilities: 100%|█████████████████████████████████████████████| 49/49 [00:00<00:00, 228.53it/s]\n",
      "Generating walks (CPU: 1): 100%|████████████████████████████████████████████████████████| 5/5 [00:00<00:00, 200.00it/s]\n",
      "Computing transition probabilities: 100%|█████████████████████████████████████████████| 49/49 [00:00<00:00, 227.90it/s]\n",
      "Generating walks (CPU: 1): 100%|████████████████████████████████████████████████████████| 5/5 [00:00<00:00, 185.08it/s]\n",
      "Computing transition probabilities: 100%|█████████████████████████████████████████████| 49/49 [00:00<00:00, 234.45it/s]\n",
      "Generating walks (CPU: 1): 100%|████████████████████████████████████████████████████████| 5/5 [00:00<00:00, 172.33it/s]\n",
      "Computing transition probabilities: 100%|█████████████████████████████████████████████| 49/49 [00:00<00:00, 227.88it/s]\n",
      "Generating walks (CPU: 1): 100%|████████████████████████████████████████████████████████| 5/5 [00:00<00:00, 178.57it/s]\n",
      "Computing transition probabilities: 100%|█████████████████████████████████████████████| 49/49 [00:00<00:00, 225.79it/s]\n",
      "Generating walks (CPU: 1): 100%|████████████████████████████████████████████████████████| 5/5 [00:00<00:00, 192.23it/s]\n",
      "Computing transition probabilities: 100%|█████████████████████████████████████████████| 49/49 [00:00<00:00, 226.47it/s]\n",
      "Generating walks (CPU: 1): 100%|████████████████████████████████████████████████████████| 5/5 [00:00<00:00, 185.19it/s]\n",
      "Computing transition probabilities: 100%|█████████████████████████████████████████████| 49/49 [00:00<00:00, 225.78it/s]\n",
      "Generating walks (CPU: 1): 100%|████████████████████████████████████████████████████████| 5/5 [00:00<00:00, 199.88it/s]\n",
      "Computing transition probabilities: 100%|█████████████████████████████████████████████| 49/49 [00:00<00:00, 230.02it/s]\n",
      "Generating walks (CPU: 1): 100%|████████████████████████████████████████████████████████| 5/5 [00:00<00:00, 199.88it/s]\n",
      "Computing transition probabilities: 100%|█████████████████████████████████████████████| 49/49 [00:00<00:00, 224.75it/s]\n",
      "Generating walks (CPU: 1): 100%|████████████████████████████████████████████████████████| 5/5 [00:00<00:00, 200.00it/s]\n",
      "Computing transition probabilities: 100%|█████████████████████████████████████████████| 49/49 [00:00<00:00, 228.99it/s]\n",
      "Generating walks (CPU: 1): 100%|████████████████████████████████████████████████████████| 5/5 [00:00<00:00, 208.50it/s]\n",
      "Computing transition probabilities: 100%|█████████████████████████████████████████████| 49/49 [00:00<00:00, 231.11it/s]\n",
      "Generating walks (CPU: 1): 100%|████████████████████████████████████████████████████████| 5/5 [00:00<00:00, 208.20it/s]\n",
      "Computing transition probabilities: 100%|█████████████████████████████████████████████| 49/49 [00:00<00:00, 224.75it/s]\n",
      "Generating walks (CPU: 1): 100%|████████████████████████████████████████████████████████| 5/5 [00:00<00:00, 208.19it/s]\n",
      "Computing transition probabilities: 100%|█████████████████████████████████████████████| 49/49 [00:00<00:00, 224.77it/s]\n",
      "Generating walks (CPU: 1): 100%|████████████████████████████████████████████████████████| 5/5 [00:00<00:00, 192.35it/s]\n",
      "Computing transition probabilities: 100%|█████████████████████████████████████████████| 49/49 [00:00<00:00, 225.79it/s]\n",
      "Generating walks (CPU: 1): 100%|████████████████████████████████████████████████████████| 5/5 [00:00<00:00, 199.92it/s]\n"
     ]
    },
    {
     "name": "stderr",
     "output_type": "stream",
     "text": [
      "Computing transition probabilities: 100%|█████████████████████████████████████████████| 49/49 [00:00<00:00, 225.78it/s]\n",
      "Generating walks (CPU: 1): 100%|████████████████████████████████████████████████████████| 5/5 [00:00<00:00, 185.06it/s]\n",
      "Computing transition probabilities: 100%|█████████████████████████████████████████████| 49/49 [00:00<00:00, 223.76it/s]\n",
      "Generating walks (CPU: 1): 100%|████████████████████████████████████████████████████████| 5/5 [00:00<00:00, 200.01it/s]\n",
      "Computing transition probabilities: 100%|█████████████████████████████████████████████| 49/49 [00:00<00:00, 227.89it/s]\n",
      "Generating walks (CPU: 1): 100%|████████████████████████████████████████████████████████| 5/5 [00:00<00:00, 199.85it/s]\n",
      "Computing transition probabilities: 100%|█████████████████████████████████████████████| 49/49 [00:00<00:00, 227.90it/s]\n",
      "Generating walks (CPU: 1): 100%|████████████████████████████████████████████████████████| 5/5 [00:00<00:00, 199.96it/s]\n",
      "Computing transition probabilities: 100%|█████████████████████████████████████████████| 49/49 [00:00<00:00, 228.95it/s]\n",
      "Generating walks (CPU: 1): 100%|████████████████████████████████████████████████████████| 5/5 [00:00<00:00, 208.20it/s]\n",
      "Computing transition probabilities: 100%|█████████████████████████████████████████████| 49/49 [00:00<00:00, 224.79it/s]\n",
      "Generating walks (CPU: 1): 100%|████████████████████████████████████████████████████████| 5/5 [00:00<00:00, 185.04it/s]\n",
      "Computing transition probabilities: 100%|█████████████████████████████████████████████| 49/49 [00:00<00:00, 223.73it/s]\n",
      "Generating walks (CPU: 1): 100%|████████████████████████████████████████████████████████| 5/5 [00:00<00:00, 192.13it/s]\n",
      "Computing transition probabilities: 100%|█████████████████████████████████████████████| 49/49 [00:00<00:00, 228.95it/s]\n",
      "Generating walks (CPU: 1): 100%|████████████████████████████████████████████████████████| 5/5 [00:00<00:00, 199.82it/s]\n",
      "Computing transition probabilities: 100%|█████████████████████████████████████████████| 49/49 [00:00<00:00, 228.95it/s]\n",
      "Generating walks (CPU: 1): 100%|████████████████████████████████████████████████████████| 5/5 [00:00<00:00, 185.19it/s]\n",
      "Computing transition probabilities: 100%|█████████████████████████████████████████████| 49/49 [00:00<00:00, 219.71it/s]\n",
      "Generating walks (CPU: 1): 100%|████████████████████████████████████████████████████████| 5/5 [00:00<00:00, 192.18it/s]\n",
      "Computing transition probabilities: 100%|█████████████████████████████████████████████| 49/49 [00:00<00:00, 220.70it/s]\n",
      "Generating walks (CPU: 1): 100%|████████████████████████████████████████████████████████| 5/5 [00:00<00:00, 199.86it/s]\n",
      "Computing transition probabilities: 100%|█████████████████████████████████████████████| 49/49 [00:00<00:00, 224.76it/s]\n",
      "Generating walks (CPU: 1): 100%|████████████████████████████████████████████████████████| 5/5 [00:00<00:00, 172.46it/s]\n",
      "Computing transition probabilities: 100%|█████████████████████████████████████████████| 49/49 [00:00<00:00, 219.73it/s]\n",
      "Generating walks (CPU: 1): 100%|████████████████████████████████████████████████████████| 5/5 [00:00<00:00, 185.21it/s]\n",
      "Computing transition probabilities: 100%|█████████████████████████████████████████████| 49/49 [00:00<00:00, 227.50it/s]\n",
      "Generating walks (CPU: 1): 100%|████████████████████████████████████████████████████████| 5/5 [00:00<00:00, 192.17it/s]\n",
      "Computing transition probabilities: 100%|█████████████████████████████████████████████| 49/49 [00:00<00:00, 228.96it/s]\n",
      "Generating walks (CPU: 1): 100%|████████████████████████████████████████████████████████| 5/5 [00:00<00:00, 208.15it/s]\n"
     ]
    }
   ],
   "source": [
    "#form embeddings and save to file\n",
    "embed_filename = 'data/n2v_embeddings/test_32_embeds.txt'\n",
    "gen_n2v(output_filename = embed_filename, G = G, dimensions = 32,\n",
    "       hop = 2, walk_length = 3, workers = 1, num_walks = 5)"
   ]
  },
  {
   "cell_type": "code",
   "execution_count": 5,
   "id": "d98979c3",
   "metadata": {},
   "outputs": [
    {
     "name": "stderr",
     "output_type": "stream",
     "text": [
      "100%|██████████████████████████████████████████████████████████████████████████████████| 49/49 [00:07<00:00,  6.70it/s]\n"
     ]
    }
   ],
   "source": [
    "#generate paths and save them to file between all drugs found in graph:\n",
    "meta_path_file = 'data/meta_paths/test_3_paths.txt'\n",
    "find_paths(output_filename = meta_path_file, G = G, cutoff = 3)\n"
   ]
  },
  {
   "cell_type": "code",
   "execution_count": 6,
   "id": "e7fe8f5a",
   "metadata": {},
   "outputs": [
    {
     "name": "stderr",
     "output_type": "stream",
     "text": [
      "100%|██████████████████████████████████████████████████████████████████████████████████| 49/49 [00:02<00:00, 21.09it/s]\n"
     ]
    }
   ],
   "source": [
    "#feature reconstruction and label matrix generation\n",
    "labels_list = get_label(file_name = 'data/datasets/data_mp/interactions.txt', names = names)\n",
    "\n",
    "fx = 'data/training_data/X_7path.txt' #feature matrix file name\n",
    "fy = 'data/training_data/y_7path.txt' #label matrix file name\n",
    "\n",
    "\n",
    "gen_matrix(embed_filename, meta_path_file, labels_list,fx,fy)"
   ]
  },
  {
   "cell_type": "code",
   "execution_count": null,
   "id": "ffb0309f",
   "metadata": {},
   "outputs": [],
   "source": []
  },
  {
   "cell_type": "code",
   "execution_count": null,
   "id": "dc563311",
   "metadata": {},
   "outputs": [],
   "source": []
  }
 ],
 "metadata": {
  "kernelspec": {
   "display_name": "Python 3 (ipykernel)",
   "language": "python",
   "name": "python3"
  },
  "language_info": {
   "codemirror_mode": {
    "name": "ipython",
    "version": 3
   },
   "file_extension": ".py",
   "mimetype": "text/x-python",
   "name": "python",
   "nbconvert_exporter": "python",
   "pygments_lexer": "ipython3",
   "version": "3.7.6"
  }
 },
 "nbformat": 4,
 "nbformat_minor": 5
}
