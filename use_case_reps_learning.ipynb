{
 "cells": [
  {
   "cell_type": "code",
   "execution_count": 1,
   "id": "7a715097",
   "metadata": {},
   "outputs": [],
   "source": [
    "#Import all functions to prepare training data\n",
    "from featurization.creating_paths import *\n",
    "from featurization import find_paths\n",
    "from featurization import gen_n2v, gen_matrix"
   ]
  },
  {
   "cell_type": "code",
   "execution_count": 2,
   "id": "47ebc8bb",
   "metadata": {},
   "outputs": [
    {
     "name": "stdout",
     "output_type": "stream",
     "text": [
      "The edgelist file is already exist\n"
     ]
    }
   ],
   "source": [
    "#creating graph from similarity matrices\n",
    "\n",
    "#get names of drugs\n",
    "names = get_names(file_name = 'data/datasets/test_data/names.txt')\n",
    "\n",
    "#get similarity matrices for graph construction\n",
    "sim_mat = get_sim_mat('data/datasets/test_data/sim_arr.txt')\n",
    "\n",
    "#create edgelist for graph and save it for further use\n",
    "edgelist_filename = 'data/edgelists/test_data.edgelist'\n",
    "create_edgelist(file_name = edgelist_filename,\n",
    "               similarity_matrix = sim_mat,\n",
    "               names = names,\n",
    "               sim_lim = 0.3)\n",
    "\n",
    "#Get graph by the name of edgelist file\n",
    "G = get_G(file_name = edgelist_filename)"
   ]
  },
  {
   "cell_type": "code",
   "execution_count": 3,
   "id": "41d40d9c",
   "metadata": {},
   "outputs": [
    {
     "name": "stderr",
     "output_type": "stream",
     "text": [
      "Computing transition probabilities: 100%|██████████| 49/49 [00:00<00:00, 426.55it/s]\n",
      "Generating walks (CPU: 1): 100%|██████████| 5/5 [00:00<00:00, 2470.43it/s]\n",
      "Computing transition probabilities: 100%|██████████| 49/49 [00:00<00:00, 438.30it/s]\n",
      "Generating walks (CPU: 1): 100%|██████████| 5/5 [00:00<00:00, 2287.22it/s]\n",
      "Computing transition probabilities: 100%|██████████| 49/49 [00:00<00:00, 450.64it/s]\n",
      "Generating walks (CPU: 1): 100%|██████████| 5/5 [00:00<00:00, 2340.83it/s]\n",
      "Computing transition probabilities: 100%|██████████| 49/49 [00:00<00:00, 413.04it/s]\n",
      "Generating walks (CPU: 1): 100%|██████████| 5/5 [00:00<00:00, 2011.66it/s]\n",
      "Computing transition probabilities: 100%|██████████| 49/49 [00:00<00:00, 437.65it/s]\n",
      "Generating walks (CPU: 1): 100%|██████████| 5/5 [00:00<00:00, 2580.79it/s]\n",
      "Computing transition probabilities: 100%|██████████| 49/49 [00:00<00:00, 439.56it/s]\n",
      "Generating walks (CPU: 1): 100%|██████████| 5/5 [00:00<00:00, 2432.61it/s]\n",
      "Computing transition probabilities: 100%|██████████| 49/49 [00:00<00:00, 421.65it/s]\n",
      "Generating walks (CPU: 1): 100%|██████████| 5/5 [00:00<00:00, 1630.38it/s]\n",
      "Computing transition probabilities: 100%|██████████| 49/49 [00:00<00:00, 431.40it/s]\n",
      "Generating walks (CPU: 1): 100%|██████████| 5/5 [00:00<00:00, 1945.59it/s]\n",
      "Computing transition probabilities: 100%|██████████| 49/49 [00:00<00:00, 436.07it/s]\n",
      "Generating walks (CPU: 1): 100%|██████████| 5/5 [00:00<00:00, 2068.81it/s]\n",
      "Computing transition probabilities: 100%|██████████| 49/49 [00:00<00:00, 443.03it/s]\n",
      "Generating walks (CPU: 1): 100%|██████████| 5/5 [00:00<00:00, 2069.83it/s]\n",
      "Computing transition probabilities: 100%|██████████| 49/49 [00:00<00:00, 444.60it/s]\n",
      "Generating walks (CPU: 1): 100%|██████████| 5/5 [00:00<00:00, 2296.49it/s]\n",
      "Computing transition probabilities: 100%|██████████| 49/49 [00:00<00:00, 454.92it/s]\n",
      "Generating walks (CPU: 1): 100%|██████████| 5/5 [00:00<00:00, 2210.79it/s]\n",
      "Computing transition probabilities: 100%|██████████| 49/49 [00:00<00:00, 455.08it/s]\n",
      "Generating walks (CPU: 1): 100%|██████████| 5/5 [00:00<00:00, 2334.84it/s]\n",
      "Computing transition probabilities: 100%|██████████| 49/49 [00:00<00:00, 436.89it/s]\n",
      "Generating walks (CPU: 1): 100%|██████████| 5/5 [00:00<00:00, 2650.93it/s]\n",
      "Computing transition probabilities: 100%|██████████| 49/49 [00:00<00:00, 430.01it/s]\n",
      "Generating walks (CPU: 1): 100%|██████████| 5/5 [00:00<00:00, 1896.16it/s]\n",
      "Computing transition probabilities: 100%|██████████| 49/49 [00:00<00:00, 450.04it/s]\n",
      "Generating walks (CPU: 1): 100%|██████████| 5/5 [00:00<00:00, 2589.72it/s]\n",
      "Computing transition probabilities: 100%|██████████| 49/49 [00:00<00:00, 453.87it/s]\n",
      "Generating walks (CPU: 1): 100%|██████████| 5/5 [00:00<00:00, 2273.58it/s]\n",
      "Computing transition probabilities: 100%|██████████| 49/49 [00:00<00:00, 426.86it/s]\n",
      "Generating walks (CPU: 1): 100%|██████████| 5/5 [00:00<00:00, 1258.19it/s]\n",
      "Computing transition probabilities: 100%|██████████| 49/49 [00:00<00:00, 417.52it/s]\n",
      "Generating walks (CPU: 1): 100%|██████████| 5/5 [00:00<00:00, 2409.13it/s]\n",
      "Computing transition probabilities: 100%|██████████| 49/49 [00:00<00:00, 389.01it/s]\n",
      "Generating walks (CPU: 1): 100%|██████████| 5/5 [00:00<00:00, 2413.29it/s]\n",
      "Computing transition probabilities: 100%|██████████| 49/49 [00:00<00:00, 372.56it/s]\n",
      "Generating walks (CPU: 1): 100%|██████████| 5/5 [00:00<00:00, 2274.82it/s]\n",
      "Computing transition probabilities: 100%|██████████| 49/49 [00:00<00:00, 400.88it/s]\n",
      "Generating walks (CPU: 1): 100%|██████████| 5/5 [00:00<00:00, 1647.80it/s]\n",
      "Computing transition probabilities: 100%|██████████| 49/49 [00:00<00:00, 351.56it/s]\n",
      "Generating walks (CPU: 1): 100%|██████████| 5/5 [00:00<00:00, 1962.34it/s]\n",
      "Computing transition probabilities: 100%|██████████| 49/49 [00:00<00:00, 340.15it/s]\n",
      "Generating walks (CPU: 1): 100%|██████████| 5/5 [00:00<00:00, 2622.10it/s]\n",
      "Computing transition probabilities: 100%|██████████| 49/49 [00:00<00:00, 365.04it/s]\n",
      "Generating walks (CPU: 1): 100%|██████████| 5/5 [00:00<00:00, 1377.08it/s]\n",
      "Computing transition probabilities: 100%|██████████| 49/49 [00:00<00:00, 344.90it/s]\n",
      "Generating walks (CPU: 1): 100%|██████████| 5/5 [00:00<00:00, 1667.05it/s]\n",
      "Computing transition probabilities: 100%|██████████| 49/49 [00:00<00:00, 363.03it/s]\n",
      "Generating walks (CPU: 1): 100%|██████████| 5/5 [00:00<00:00, 1927.88it/s]\n",
      "Computing transition probabilities: 100%|██████████| 49/49 [00:00<00:00, 399.89it/s]\n",
      "Generating walks (CPU: 1): 100%|██████████| 5/5 [00:00<00:00, 1600.02it/s]\n",
      "Computing transition probabilities: 100%|██████████| 49/49 [00:00<00:00, 319.12it/s]\n",
      "Generating walks (CPU: 1): 100%|██████████| 5/5 [00:00<00:00, 1291.67it/s]\n",
      "Computing transition probabilities: 100%|██████████| 49/49 [00:00<00:00, 336.47it/s]\n",
      "Generating walks (CPU: 1): 100%|██████████| 5/5 [00:00<00:00, 1275.95it/s]\n",
      "Computing transition probabilities: 100%|██████████| 49/49 [00:00<00:00, 331.60it/s]\n",
      "Generating walks (CPU: 1): 100%|██████████| 5/5 [00:00<00:00, 1150.95it/s]\n",
      "Computing transition probabilities: 100%|██████████| 49/49 [00:00<00:00, 331.38it/s]\n",
      "Generating walks (CPU: 1): 100%|██████████| 5/5 [00:00<00:00, 1028.02it/s]\n",
      "Computing transition probabilities: 100%|██████████| 49/49 [00:00<00:00, 348.37it/s]\n",
      "Generating walks (CPU: 1): 100%|██████████| 5/5 [00:00<00:00, 1726.34it/s]\n",
      "Computing transition probabilities: 100%|██████████| 49/49 [00:00<00:00, 289.33it/s]\n",
      "Generating walks (CPU: 1): 100%|██████████| 5/5 [00:00<00:00, 2046.40it/s]\n",
      "Computing transition probabilities: 100%|██████████| 49/49 [00:00<00:00, 381.07it/s]\n",
      "Generating walks (CPU: 1): 100%|██████████| 5/5 [00:00<00:00, 1807.42it/s]\n",
      "Computing transition probabilities: 100%|██████████| 49/49 [00:00<00:00, 403.21it/s]\n",
      "Generating walks (CPU: 1): 100%|██████████| 5/5 [00:00<00:00, 1675.31it/s]\n",
      "Computing transition probabilities: 100%|██████████| 49/49 [00:00<00:00, 378.54it/s]\n",
      "Generating walks (CPU: 1): 100%|██████████| 5/5 [00:00<00:00, 1974.35it/s]\n",
      "Computing transition probabilities: 100%|██████████| 49/49 [00:00<00:00, 424.73it/s]\n",
      "Generating walks (CPU: 1): 100%|██████████| 5/5 [00:00<00:00, 2244.62it/s]\n",
      "Computing transition probabilities: 100%|██████████| 49/49 [00:00<00:00, 405.41it/s]\n",
      "Generating walks (CPU: 1): 100%|██████████| 5/5 [00:00<00:00, 1681.62it/s]\n",
      "Computing transition probabilities: 100%|██████████| 49/49 [00:00<00:00, 389.29it/s]\n",
      "Generating walks (CPU: 1): 100%|██████████| 5/5 [00:00<00:00, 2092.97it/s]\n",
      "Computing transition probabilities: 100%|██████████| 49/49 [00:00<00:00, 387.58it/s]\n",
      "Generating walks (CPU: 1): 100%|██████████| 5/5 [00:00<00:00, 2106.21it/s]\n",
      "Computing transition probabilities: 100%|██████████| 49/49 [00:00<00:00, 389.92it/s]\n",
      "Generating walks (CPU: 1): 100%|██████████| 5/5 [00:00<00:00, 1932.86it/s]\n",
      "Computing transition probabilities: 100%|██████████| 49/49 [00:00<00:00, 399.98it/s]\n",
      "Generating walks (CPU: 1): 100%|██████████| 5/5 [00:00<00:00, 1174.41it/s]\n",
      "Computing transition probabilities: 100%|██████████| 49/49 [00:00<00:00, 391.34it/s]\n",
      "Generating walks (CPU: 1): 100%|██████████| 5/5 [00:00<00:00, 1911.37it/s]\n",
      "Computing transition probabilities: 100%|██████████| 49/49 [00:00<00:00, 420.51it/s]\n",
      "Generating walks (CPU: 1): 100%|██████████| 5/5 [00:00<00:00, 1859.18it/s]\n",
      "Computing transition probabilities: 100%|██████████| 49/49 [00:00<00:00, 431.46it/s]\n",
      "Generating walks (CPU: 1): 100%|██████████| 5/5 [00:00<00:00, 2184.31it/s]\n",
      "Computing transition probabilities: 100%|██████████| 49/49 [00:00<00:00, 432.93it/s]\n",
      "Generating walks (CPU: 1): 100%|██████████| 5/5 [00:00<00:00, 1574.32it/s]\n",
      "Computing transition probabilities: 100%|██████████| 49/49 [00:00<00:00, 422.15it/s]\n",
      "Generating walks (CPU: 1): 100%|██████████| 5/5 [00:00<00:00, 2202.20it/s]\n",
      "Computing transition probabilities: 100%|██████████| 49/49 [00:00<00:00, 435.25it/s]\n",
      "Generating walks (CPU: 1): 100%|██████████| 5/5 [00:00<00:00, 2374.49it/s]\n"
     ]
    }
   ],
   "source": [
    "#form embeddings and save to file\n",
    "embed_filename = 'data/n2v_embeddings/test_32_embeds.txt'\n",
    "gen_n2v(output_filename = embed_filename, G = G, dimensions = 32,\n",
    "       hop = 2, walk_length = 3, workers = 1, num_walks = 5)"
   ]
  },
  {
   "cell_type": "code",
   "execution_count": 4,
   "id": "d98979c3",
   "metadata": {},
   "outputs": [
    {
     "name": "stderr",
     "output_type": "stream",
     "text": [
      "100%|██████████| 49/49 [00:02<00:00, 16.83it/s]\n"
     ]
    }
   ],
   "source": [
    "#generate paths and save them to file between all drugs found in graph:\n",
    "meta_path_file = 'data/meta_paths/test_3_paths.txt'\n",
    "find_paths(output_filename = meta_path_file, G = G, cutoff = 3)\n"
   ]
  },
  {
   "cell_type": "code",
   "execution_count": 5,
   "id": "e7fe8f5a",
   "metadata": {},
   "outputs": [
    {
     "name": "stderr",
     "output_type": "stream",
     "text": [
      "100%|██████████| 49/49 [00:00<00:00, 353.18it/s]\n"
     ]
    }
   ],
   "source": [
    "#feature reconstruction and label matrix generation\n",
    "labels_list = get_label(file_name = 'data/datasets/data_mp/interactions.txt', names = names)\n",
    "\n",
    "fx = 'data/training_data/X_7path.txt' #feature matrix file name\n",
    "fy = 'data/training_data/y_7path.txt' #label matrix file name\n",
    "\n",
    "\n",
    "gen_matrix(embed_filename, meta_path_file, labels_list,fx,fy)"
   ]
  },
  {
   "cell_type": "code",
   "execution_count": null,
   "id": "ffb0309f",
   "metadata": {},
   "outputs": [],
   "source": []
  },
  {
   "cell_type": "code",
   "execution_count": null,
   "id": "dc563311",
   "metadata": {},
   "outputs": [],
   "source": []
  }
 ],
 "metadata": {
  "kernelspec": {
   "display_name": "Python 3.9.7 64-bit ('anaconda3')",
   "language": "python",
   "name": "python3"
  },
  "language_info": {
   "codemirror_mode": {
    "name": "ipython",
    "version": 3
   },
   "file_extension": ".py",
   "mimetype": "text/x-python",
   "name": "python",
   "nbconvert_exporter": "python",
   "pygments_lexer": "ipython3",
   "version": "3.9.7"
  },
  "vscode": {
   "interpreter": {
    "hash": "26b669ad8bf268938f44ac29f5c4b2ad9da9f9cba6d60b038579058dbb91077c"
   }
  }
 },
 "nbformat": 4,
 "nbformat_minor": 5
}
