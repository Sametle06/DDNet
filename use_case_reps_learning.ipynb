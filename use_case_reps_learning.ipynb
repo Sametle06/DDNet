{
 "cells": [
  {
   "cell_type": "code",
   "execution_count": 1,
   "id": "7a715097",
   "metadata": {},
   "outputs": [],
   "source": [
    "from featurization.creating_paths import *\n",
    "from featurization import find_paths\n",
    "from featurization import gen_n2v, gen_matrix"
   ]
  },
  {
   "cell_type": "code",
   "execution_count": 2,
   "id": "47ebc8bb",
   "metadata": {},
   "outputs": [
    {
     "name": "stdout",
     "output_type": "stream",
     "text": [
      "The edgelist file is already exist\n",
      "graph done\n"
     ]
    }
   ],
   "source": [
    "#creating graph from similarity matrices\n",
    "names = get_names(file_name = 'data/datasets/test_data/names.txt')\n",
    "sim_mat = get_sim_mat('data/datasets/test_data/sim_arr.txt')\n",
    "\n",
    "edgelist_filename = 'data/edgelists/test_data.edgelist'\n",
    "create_edgelist(file_name = edgelist_filename,\n",
    "               similarity_matrix = sim_mat,\n",
    "               names = names,\n",
    "               sim_lim = 0.3)\n",
    "G = get_G(file_name = edgelist_filename)\n",
    "print('graph done')"
   ]
  },
  {
   "cell_type": "code",
   "execution_count": 3,
   "id": "41d40d9c",
   "metadata": {},
   "outputs": [
    {
     "name": "stdout",
     "output_type": "stream",
     "text": [
      "The embedding file is already exist\n",
      "n2v done, paths are generated...\n"
     ]
    }
   ],
   "source": [
    "#form embeddings and save to file\n",
    "embed_filename = 'data/n2v_embeddings/test_128_embeds.txt'\n",
    "gen_n2v(output_filename = embed_filename, G = G,\n",
    "       hop = 1, walk_length = 15, workers = 1)\n",
    "print('n2v done, paths are generated...')"
   ]
  },
  {
   "cell_type": "code",
   "execution_count": 4,
   "id": "d98979c3",
   "metadata": {},
   "outputs": [
    {
     "name": "stdout",
     "output_type": "stream",
     "text": [
      "The path file is already exist\n",
      "paths done, training data is construted\n"
     ]
    }
   ],
   "source": [
    "#generate paths and save them to file between all drugs found in graph:\n",
    "meta_path_file = 'data/meta_paths/test_7_paths.txt'\n",
    "find_paths(output_filename = meta_path_file, G = G, cutoff = 7)\n",
    "print('paths done, training data is construted')"
   ]
  },
  {
   "cell_type": "code",
   "execution_count": 5,
   "id": "e7fe8f5a",
   "metadata": {},
   "outputs": [
    {
     "name": "stdout",
     "output_type": "stream",
     "text": [
      "matrix construction done\n"
     ]
    },
    {
     "name": "stderr",
     "output_type": "stream",
     "text": [
      "100%|█████████████████████████████████████████████████████████████████████████████████| 49/49 [00:00<00:00, 119.51it/s]\n"
     ]
    }
   ],
   "source": [
    "#feature (reconstruction) and label matrix generation\n",
    "labels_list = get_label(file_name = 'data/datasets/data_mp/interactions.txt', names = names)\n",
    "\n",
    "fx = 'data/training_data/X_7path.txt' #feature matrix file name\n",
    "fy = 'data/training_data/y_7path.txt' #label matrix file name\n",
    "\n",
    "print('matrix construction done')\n",
    "gen_matrix(embed_filename, meta_path_file, labels_list,fx,fy)"
   ]
  },
  {
   "cell_type": "code",
   "execution_count": null,
   "id": "ffb0309f",
   "metadata": {},
   "outputs": [],
   "source": []
  },
  {
   "cell_type": "code",
   "execution_count": null,
   "id": "dc563311",
   "metadata": {},
   "outputs": [],
   "source": []
  }
 ],
 "metadata": {
  "kernelspec": {
   "display_name": "Python 3 (ipykernel)",
   "language": "python",
   "name": "python3"
  },
  "language_info": {
   "codemirror_mode": {
    "name": "ipython",
    "version": 3
   },
   "file_extension": ".py",
   "mimetype": "text/x-python",
   "name": "python",
   "nbconvert_exporter": "python",
   "pygments_lexer": "ipython3",
   "version": "3.7.6"
  }
 },
 "nbformat": 4,
 "nbformat_minor": 5
}
