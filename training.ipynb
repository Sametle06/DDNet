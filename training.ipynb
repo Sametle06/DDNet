{
 "cells": [
  {
   "cell_type": "code",
   "execution_count": null,
   "id": "785b9aa4",
   "metadata": {},
   "outputs": [],
   "source": [
    "from model_train import get_data, train, evaluate_score"
   ]
  },
  {
   "cell_type": "code",
   "execution_count": null,
   "id": "000b5e5d",
   "metadata": {},
   "outputs": [],
   "source": [
    "#loading and preprocessing training data\n",
    "fx = 'data/training_data/X_7path.txt' #feature matrix file name\n",
    "fy = 'data/training_data/y_7path.txt' #label matrix file name\n",
    "X_train,X_test,y_train,y_test = get_data(fx,fy, ratio = 0.2)"
   ]
  },
  {
   "cell_type": "code",
   "execution_count": null,
   "id": "7a2475d8",
   "metadata": {},
   "outputs": [],
   "source": [
    "#train a model\n",
    "model = train(X_train,y_train, ml_type = 'deep')"
   ]
  },
  {
   "cell_type": "code",
   "execution_count": null,
   "id": "f736a2b9",
   "metadata": {},
   "outputs": [],
   "source": [
    "#get test scores\n",
    "score_test = evaluate_score(model, X_test, y_test, isDeep = True)"
   ]
  },
  {
   "cell_type": "code",
   "execution_count": null,
   "id": "cd6e3382",
   "metadata": {},
   "outputs": [],
   "source": [
    "#to save score \n",
    "import pandas as pd\n",
    "test_scores = [score_test]\n",
    "data = pd.DataFrame.from_dict(test_scores)\n",
    "data.to_csv('../scores/test_scores.csv',index = False, header = True)"
   ]
  }
 ],
 "metadata": {
  "kernelspec": {
   "display_name": "Python 3 (ipykernel)",
   "language": "python",
   "name": "python3"
  },
  "language_info": {
   "codemirror_mode": {
    "name": "ipython",
    "version": 3
   },
   "file_extension": ".py",
   "mimetype": "text/x-python",
   "name": "python",
   "nbconvert_exporter": "python",
   "pygments_lexer": "ipython3",
   "version": "3.7.6"
  }
 },
 "nbformat": 4,
 "nbformat_minor": 5
}
