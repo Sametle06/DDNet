{
 "cells": [
  {
   "cell_type": "code",
   "execution_count": 1,
   "id": "db89d2ca",
   "metadata": {},
   "outputs": [],
   "source": [
    "import re \n",
    "import numpy as np\n",
    "import pandas as pd\n",
    "from model_process import pca\n",
    "from model_process import outlier_detection, apply_birch, apply_kmeans"
   ]
  },
  {
   "cell_type": "code",
   "execution_count": 2,
   "id": "051b5b2e",
   "metadata": {},
   "outputs": [],
   "source": [
    "data = []\n",
    "with open('data/n2v_embeddings/test_embeds.txt') as f:\n",
    "    for row in f:\n",
    "        data.append(re.split(',', re.split(' ',row.strip('\\n'))[1]))\n",
    "data = np.array(data,dtype = float)"
   ]
  },
  {
   "cell_type": "code",
   "execution_count": 3,
   "id": "d9b8ccf4",
   "metadata": {},
   "outputs": [],
   "source": [
    "z_data = outlier_detection(data)"
   ]
  },
  {
   "cell_type": "code",
   "execution_count": 4,
   "id": "46cf636d",
   "metadata": {},
   "outputs": [],
   "source": [
    "q_data = outlier_detection(data, function='quantile')"
   ]
  },
  {
   "cell_type": "code",
   "execution_count": 5,
   "id": "85acbd04",
   "metadata": {},
   "outputs": [
    {
     "data": {
      "text/plain": [
       "array([[ 0.67585219],\n",
       "       [-0.00954983],\n",
       "       [ 0.57161228],\n",
       "       [-0.455711  ],\n",
       "       [-0.41834984],\n",
       "       [-0.33573287],\n",
       "       [-0.19519907],\n",
       "       [-0.32498765],\n",
       "       [-0.38797885],\n",
       "       [-0.34355923],\n",
       "       [ 0.05976401],\n",
       "       [-0.46291427],\n",
       "       [-0.39071986],\n",
       "       [-0.31892051],\n",
       "       [-0.28894239],\n",
       "       [-0.45138094],\n",
       "       [-0.32875901],\n",
       "       [ 0.07477007],\n",
       "       [-0.24591427],\n",
       "       [-0.32726629],\n",
       "       [-0.32479286],\n",
       "       [-0.31673286],\n",
       "       [-0.11813503],\n",
       "       [-0.26492611],\n",
       "       [-0.3669531 ],\n",
       "       [-0.30742557],\n",
       "       [-0.41796968],\n",
       "       [-0.39372562],\n",
       "       [-0.43354774],\n",
       "       [-0.44655331],\n",
       "       [-0.36467199],\n",
       "       [ 0.54213019],\n",
       "       [ 0.34561929],\n",
       "       [-0.11378733],\n",
       "       [ 0.54156822],\n",
       "       [ 0.07364211],\n",
       "       [ 0.31600416],\n",
       "       [ 0.16926893],\n",
       "       [ 0.73086367],\n",
       "       [ 0.01424989],\n",
       "       [ 0.08124098],\n",
       "       [ 0.55431594],\n",
       "       [ 0.58167827],\n",
       "       [ 0.58971617],\n",
       "       [ 0.54574282],\n",
       "       [ 0.72016977],\n",
       "       [ 0.74300544],\n",
       "       [ 0.54206748],\n",
       "       [ 0.6818252 ]])"
      ]
     },
     "execution_count": 5,
     "metadata": {},
     "output_type": "execute_result"
    },
    {
     "data": {
      "image/png": "[encoded data removed]",
      "text/plain": [
       "<Figure size 576x576 with 1 Axes>"
      ]
     },
     "metadata": {
      "needs_background": "light"
     },
     "output_type": "display_data"
    }
   ],
   "source": [
    "pred_k = apply_kmeans(data, n = 2)\n",
    "pca(data, pred_k)"
   ]
  },
  {
   "cell_type": "code",
   "execution_count": 6,
   "id": "1e02bad8",
   "metadata": {},
   "outputs": [
    {
     "data": {
      "text/plain": [
       "(35, 32)"
      ]
     },
     "execution_count": 6,
     "metadata": {},
     "output_type": "execute_result"
    }
   ],
   "source": [
    "q_data.shape"
   ]
  },
  {
   "cell_type": "code",
   "execution_count": 10,
   "id": "501f2f28",
   "metadata": {},
   "outputs": [
    {
     "data": {
      "text/plain": [
       "array([[-0.35396246],\n",
       "       [-0.31237143],\n",
       "       [-0.18367899],\n",
       "       [-0.22257611],\n",
       "       [-0.21995599],\n",
       "       [ 0.2650079 ],\n",
       "       [-0.35878038],\n",
       "       [-0.30599648],\n",
       "       [-0.15173391],\n",
       "       [-0.12261494],\n",
       "       [-0.32362667],\n",
       "       [-0.18183489],\n",
       "       [ 0.32245645],\n",
       "       [-0.0915976 ],\n",
       "       [-0.17963908],\n",
       "       [-0.20832608],\n",
       "       [-0.17420749],\n",
       "       [ 0.1028974 ],\n",
       "       [-0.0773418 ],\n",
       "       [-0.27504722],\n",
       "       [-0.16704533],\n",
       "       [-0.31403562],\n",
       "       [-0.25892079],\n",
       "       [-0.33240279],\n",
       "       [-0.33703327],\n",
       "       [-0.29233499],\n",
       "       [ 0.7084977 ],\n",
       "       [ 0.28759268],\n",
       "       [ 0.36570341],\n",
       "       [ 0.20751994],\n",
       "       [ 0.27504353],\n",
       "       [ 0.71456223],\n",
       "       [ 0.7417801 ],\n",
       "       [ 0.74565605],\n",
       "       [ 0.70834692]])"
      ]
     },
     "execution_count": 10,
     "metadata": {},
     "output_type": "execute_result"
    },
    {
     "data": {
      "image/png": "[encoded data removed]",
      "text/plain": [
       "<Figure size 576x576 with 1 Axes>"
      ]
     },
     "metadata": {
      "needs_background": "light"
     },
     "output_type": "display_data"
    }
   ],
   "source": [
    "pred_k = apply_kmeans(q_data, n = 2)\n",
    "pca(q_data, pred_k)"
   ]
  },
  {
   "cell_type": "code",
   "execution_count": null,
   "id": "0287079f",
   "metadata": {},
   "outputs": [],
   "source": []
  },
  {
   "cell_type": "code",
   "execution_count": null,
   "id": "ceb01c94",
   "metadata": {},
   "outputs": [],
   "source": []
  },
  {
   "cell_type": "code",
   "execution_count": null,
   "id": "720a8043",
   "metadata": {},
   "outputs": [],
   "source": []
  },
  {
   "cell_type": "code",
   "execution_count": null,
   "id": "2e4662d7",
   "metadata": {},
   "outputs": [],
   "source": []
  },
  {
   "cell_type": "code",
   "execution_count": null,
   "id": "838cc21b",
   "metadata": {},
   "outputs": [],
   "source": []
  },
  {
   "cell_type": "code",
   "execution_count": null,
   "id": "69155f85",
   "metadata": {},
   "outputs": [],
   "source": []
  },
  {
   "cell_type": "code",
   "execution_count": null,
   "id": "99b8e96d",
   "metadata": {},
   "outputs": [],
   "source": []
  },
  {
   "cell_type": "code",
   "execution_count": null,
   "id": "79ff1d83",
   "metadata": {},
   "outputs": [],
   "source": []
  },
  {
   "cell_type": "code",
   "execution_count": null,
   "id": "168fc9e3",
   "metadata": {},
   "outputs": [],
   "source": []
  },
  {
   "cell_type": "code",
   "execution_count": null,
   "id": "6fb438f1",
   "metadata": {},
   "outputs": [],
   "source": []
  },
  {
   "cell_type": "code",
   "execution_count": null,
   "id": "2819bcdc",
   "metadata": {},
   "outputs": [],
   "source": []
  },
  {
   "cell_type": "code",
   "execution_count": null,
   "id": "aa644d75",
   "metadata": {},
   "outputs": [],
   "source": []
  },
  {
   "cell_type": "code",
   "execution_count": null,
   "id": "51a66cda",
   "metadata": {},
   "outputs": [],
   "source": [
    "d = 128\n",
    "p = 1\n",
    "q = 1\n",
    "X = np.loadtxt('data/training_data/mp_trains/mp_X' + str(d) + '_' + str(p) + '_' + str(q) + '.txt')\n",
    "y = np.loadtxt('data/training_data/mp_trains/mp_y' + str(d) + '_' + str(p) + '_' + str(q) + '.txt')"
   ]
  }
 ],
 "metadata": {
  "kernelspec": {
   "display_name": "Python 3 (ipykernel)",
   "language": "python",
   "name": "python3"
  },
  "language_info": {
   "codemirror_mode": {
    "name": "ipython",
    "version": 3
   },
   "file_extension": ".py",
   "mimetype": "text/x-python",
   "name": "python",
   "nbconvert_exporter": "python",
   "pygments_lexer": "ipython3",
   "version": "3.7.6"
  }
 },
 "nbformat": 4,
 "nbformat_minor": 5
}
