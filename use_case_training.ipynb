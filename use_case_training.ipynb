{
 "cells": [
  {
   "cell_type": "code",
   "execution_count": 1,
   "id": "785b9aa4",
   "metadata": {},
   "outputs": [],
   "source": [
    "#Import functions to laod and train data\n",
    "from model_process import get_data\n",
    "from model_train import train, evaluate_score"
   ]
  },
  {
   "cell_type": "code",
   "execution_count": 2,
   "id": "000b5e5d",
   "metadata": {},
   "outputs": [],
   "source": [
    "#loading, splitting and normalizing (if needed) training data\n",
    "fx = 'data/training_data/X.txt' #feature matrix file name\n",
    "fy = 'data/training_data/y.txt' #label matrix file name\n",
    "X_train,X_test,y_train,y_test = get_data(fx,fy, ratio = 0.2)"
   ]
  },
  {
   "cell_type": "code",
   "execution_count": 3,
   "id": "7a2475d8",
   "metadata": {},
   "outputs": [
    {
     "name": "stdout",
     "output_type": "stream",
     "text": [
      "NVIDIA GeForce GTX 950M\n"
     ]
    },
    {
     "name": "stderr",
     "output_type": "stream",
     "text": [
      "100%|███████████████████████████████████████████████████████████████████████████████| 100/100 [00:00<00:00, 121.81it/s]\n"
     ]
    }
   ],
   "source": [
    "#train a model\n",
    "model = train(X_train,y_train, ml_type = 'deep', epochs = 100, isValid = False)"
   ]
  },
  {
   "cell_type": "code",
   "execution_count": 4,
   "id": "f736a2b9",
   "metadata": {},
   "outputs": [],
   "source": [
    "#get test scores\n",
    "score_test = evaluate_score(model, X_test, y_test, isDeep = True)"
   ]
  },
  {
   "cell_type": "code",
   "execution_count": 5,
   "id": "27b9d869",
   "metadata": {},
   "outputs": [
    {
     "data": {
      "text/plain": [
       "{'Precision': 0.1355421686746988,\n",
       " 'Recall': 0.9782608695652174,\n",
       " 'F1-Score': 0.23809523809523805,\n",
       " 'F05-Score': 0.16375545851528386,\n",
       " 'Accuracy': 0.40124740124740127,\n",
       " 'MCC': 0.20256210341842149,\n",
       " 'AUC': 0.6592453773113444,\n",
       " 'AUPRC': 0.5579410201594591,\n",
       " 'TP': 45,\n",
       " 'FP': 287,\n",
       " 'TN': 148,\n",
       " 'FN': 1}"
      ]
     },
     "execution_count": 5,
     "metadata": {},
     "output_type": "execute_result"
    }
   ],
   "source": [
    "score_test"
   ]
  },
  {
   "cell_type": "code",
   "execution_count": null,
   "id": "cd6e3382",
   "metadata": {},
   "outputs": [],
   "source": [
    "#Score can be saved via this code\n",
    "import pandas as pd\n",
    "test_scores = [score_test]\n",
    "data = pd.DataFrame.from_dict(test_scores)\n",
    "data.to_csv('../scores/test_scores.csv',index = False, header = True)"
   ]
  }
 ],
 "metadata": {
  "kernelspec": {
   "display_name": "Python 3 (ipykernel)",
   "language": "python",
   "name": "python3"
  },
  "language_info": {
   "codemirror_mode": {
    "name": "ipython",
    "version": 3
   },
   "file_extension": ".py",
   "mimetype": "text/x-python",
   "name": "python",
   "nbconvert_exporter": "python",
   "pygments_lexer": "ipython3",
   "version": "3.7.6"
  }
 },
 "nbformat": 4,
 "nbformat_minor": 5
}
