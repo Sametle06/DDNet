{
 "cells": [
  {
   "cell_type": "code",
   "execution_count": 2,
   "id": "785b9aa4",
   "metadata": {},
   "outputs": [
    {
     "name": "stderr",
     "output_type": "stream",
     "text": [
      "/home/atakan/Desktop/514-20212/DDNet/model_train/evaluation_functions.py:28: SyntaxWarning: \"is not\" with a literal. Did you mean \"!=\"?\n",
      "  if pair is not 0:\n"
     ]
    },
    {
     "ename": "ModuleNotFoundError",
     "evalue": "No module named 'rdkit'",
     "output_type": "error",
     "traceback": [
      "\u001b[0;31m---------------------------------------------------------------------------\u001b[0m",
      "\u001b[0;31mModuleNotFoundError\u001b[0m                       Traceback (most recent call last)",
      "\u001b[0;32m/tmp/ipykernel_1996948/1589591785.py\u001b[0m in \u001b[0;36m<module>\u001b[0;34m\u001b[0m\n\u001b[1;32m      1\u001b[0m \u001b[0;31m#Import functions to laod and train data\u001b[0m\u001b[0;34m\u001b[0m\u001b[0;34m\u001b[0m\u001b[0m\n\u001b[1;32m      2\u001b[0m \u001b[0;32mfrom\u001b[0m \u001b[0mmodel_process\u001b[0m \u001b[0;32mimport\u001b[0m \u001b[0mget_data\u001b[0m\u001b[0;34m\u001b[0m\u001b[0;34m\u001b[0m\u001b[0m\n\u001b[0;32m----> 3\u001b[0;31m \u001b[0;32mfrom\u001b[0m \u001b[0mmodel_train\u001b[0m \u001b[0;32mimport\u001b[0m \u001b[0mtrain\u001b[0m\u001b[0;34m,\u001b[0m \u001b[0mevaluate_score\u001b[0m\u001b[0;34m\u001b[0m\u001b[0;34m\u001b[0m\u001b[0m\n\u001b[0m",
      "\u001b[0;32m~/Desktop/514-20212/DDNet/model_train/__init__.py\u001b[0m in \u001b[0;36m<module>\u001b[0;34m\u001b[0m\n\u001b[1;32m      7\u001b[0m \u001b[0;34m\u001b[0m\u001b[0m\n\u001b[1;32m      8\u001b[0m \u001b[0;32mfrom\u001b[0m \u001b[0;34m.\u001b[0m\u001b[0mlearning_functions\u001b[0m \u001b[0;32mimport\u001b[0m \u001b[0mtrain\u001b[0m\u001b[0;34m\u001b[0m\u001b[0;34m\u001b[0m\u001b[0m\n\u001b[0;32m----> 9\u001b[0;31m \u001b[0;32mfrom\u001b[0m \u001b[0;34m.\u001b[0m\u001b[0mevaluation_functions\u001b[0m \u001b[0;32mimport\u001b[0m \u001b[0mevaluate_score\u001b[0m\u001b[0;34m\u001b[0m\u001b[0;34m\u001b[0m\u001b[0m\n\u001b[0m",
      "\u001b[0;32m~/Desktop/514-20212/DDNet/model_train/evaluation_functions.py\u001b[0m in \u001b[0;36m<module>\u001b[0;34m\u001b[0m\n\u001b[1;32m     11\u001b[0m \u001b[0;32mfrom\u001b[0m \u001b[0mscipy\u001b[0m \u001b[0;32mimport\u001b[0m \u001b[0mstats\u001b[0m\u001b[0;34m\u001b[0m\u001b[0;34m\u001b[0m\u001b[0m\n\u001b[1;32m     12\u001b[0m \u001b[0;32mfrom\u001b[0m \u001b[0msklearn\u001b[0m \u001b[0;32mimport\u001b[0m \u001b[0mpreprocessing\u001b[0m\u001b[0;34m,\u001b[0m \u001b[0mmetrics\u001b[0m\u001b[0;34m\u001b[0m\u001b[0;34m\u001b[0m\u001b[0m\n\u001b[0;32m---> 13\u001b[0;31m \u001b[0;32mimport\u001b[0m \u001b[0mrdkit\u001b[0m\u001b[0;34m\u001b[0m\u001b[0;34m\u001b[0m\u001b[0m\n\u001b[0m\u001b[1;32m     14\u001b[0m \u001b[0;32mfrom\u001b[0m \u001b[0msklearn\u001b[0m\u001b[0;34m.\u001b[0m\u001b[0mmetrics\u001b[0m \u001b[0;32mimport\u001b[0m \u001b[0mconfusion_matrix\u001b[0m\u001b[0;34m\u001b[0m\u001b[0;34m\u001b[0m\u001b[0m\n\u001b[1;32m     15\u001b[0m \u001b[0;32mimport\u001b[0m \u001b[0mtorch\u001b[0m\u001b[0;34m\u001b[0m\u001b[0;34m\u001b[0m\u001b[0m\n",
      "\u001b[0;31mModuleNotFoundError\u001b[0m: No module named 'rdkit'"
     ]
    }
   ],
   "source": [
    "#Import functions to laod and train data\n",
    "from model_process import get_data\n",
    "from model_train import train, evaluate_score"
   ]
  },
  {
   "cell_type": "code",
   "execution_count": null,
   "id": "000b5e5d",
   "metadata": {},
   "outputs": [],
   "source": [
    "#loading, splitting and normalizing (if needed) training data\n",
    "fx = 'data/training_data/X.txt' #feature matrix file name\n",
    "fy = 'data/training_data/y.txt' #label matrix file name\n",
    "X_train,X_test,y_train,y_test = get_data(fx,fy, ratio = 0.2)"
   ]
  },
  {
   "cell_type": "code",
   "execution_count": null,
   "id": "7a2475d8",
   "metadata": {},
   "outputs": [],
   "source": [
    "#train a model\n",
    "model = train(X_train,y_train, ml_type = 'deep', epochs = 100, isValid = False)"
   ]
  },
  {
   "cell_type": "code",
   "execution_count": null,
   "id": "f736a2b9",
   "metadata": {},
   "outputs": [],
   "source": [
    "#get test scores\n",
    "score_test = evaluate_score(model, X_test, y_test, isDeep = True)"
   ]
  },
  {
   "cell_type": "code",
   "execution_count": null,
   "id": "27b9d869",
   "metadata": {},
   "outputs": [],
   "source": [
    "score_test"
   ]
  },
  {
   "cell_type": "code",
   "execution_count": null,
   "id": "cd6e3382",
   "metadata": {},
   "outputs": [],
   "source": [
    "#Score can be saved via this code\n",
    "import pandas as pd\n",
    "test_scores = [score_test]\n",
    "data = pd.DataFrame.from_dict(test_scores)\n",
    "data.to_csv('../scores/test_scores.csv',index = False, header = True)"
   ]
  }
 ],
 "metadata": {
  "kernelspec": {
   "display_name": "Python 3.9.7 64-bit ('anaconda3')",
   "language": "python",
   "name": "python3"
  },
  "language_info": {
   "codemirror_mode": {
    "name": "ipython",
    "version": 3
   },
   "file_extension": ".py",
   "mimetype": "text/x-python",
   "name": "python",
   "nbconvert_exporter": "python",
   "pygments_lexer": "ipython3",
   "version": "3.9.7"
  },
  "vscode": {
   "interpreter": {
    "hash": "26b669ad8bf268938f44ac29f5c4b2ad9da9f9cba6d60b038579058dbb91077c"
   }
  }
 },
 "nbformat": 4,
 "nbformat_minor": 5
}
