{
 "cells": [
  {
   "cell_type": "code",
   "execution_count": 7,
   "id": "785b9aa4",
   "metadata": {},
   "outputs": [],
   "source": [
    "#Import functions to laod and train data\n",
    "from model_process import get_data\n",
    "from model_train import train, evaluate_score"
   ]
  },
  {
   "cell_type": "code",
   "execution_count": 8,
   "id": "000b5e5d",
   "metadata": {},
   "outputs": [],
   "source": [
    "#loading, splitting and normalizing (if needed) training data\n",
    "fx = 'data/training_data/X.txt' #feature matrix file name\n",
    "fy = 'data/training_data/y.txt' #label matrix file name\n",
    "X_train,X_test,y_train,y_test = get_data(fx,fy, ratio = 0.2)"
   ]
  },
  {
   "cell_type": "code",
   "execution_count": 9,
   "id": "7a2475d8",
   "metadata": {},
   "outputs": [
    {
     "name": "stderr",
     "output_type": "stream",
     "text": [
      "100%|██████████| 100/100 [00:00<00:00, 131.25it/s]\n"
     ]
    }
   ],
   "source": [
    "#train a model\n",
    "model = train(X_train,y_train, ml_type = 'deep', epochs = 100, isValid = False)"
   ]
  },
  {
   "cell_type": "code",
   "execution_count": 10,
   "id": "f736a2b9",
   "metadata": {},
   "outputs": [],
   "source": [
    "#get test scores\n",
    "score_test = evaluate_score(model, X_test, y_test, isDeep = True)"
   ]
  },
  {
   "cell_type": "code",
   "execution_count": 11,
   "id": "27b9d869",
   "metadata": {},
   "outputs": [
    {
     "data": {
      "text/plain": [
       "{'Precision': 0.165625,\n",
       " 'Recall': 0.9814814814814815,\n",
       " 'F1-Score': 0.2834224598930481,\n",
       " 'F05-Score': 0.19865067466266867,\n",
       " 'Accuracy': 0.44282744282744285,\n",
       " 'MCC': 0.23828849713916464,\n",
       " 'AUC': 0.6780943707173215,\n",
       " 'AUPRC': 0.5745927417802418,\n",
       " 'TP': 53,\n",
       " 'FP': 267,\n",
       " 'TN': 160,\n",
       " 'FN': 1}"
      ]
     },
     "execution_count": 11,
     "metadata": {},
     "output_type": "execute_result"
    }
   ],
   "source": [
    "score_test"
   ]
  },
  {
   "cell_type": "code",
   "execution_count": 12,
   "id": "cd6e3382",
   "metadata": {},
   "outputs": [],
   "source": [
    "#Score can be saved via this code\n",
    "import pandas as pd\n",
    "test_scores = [score_test]\n",
    "data = pd.DataFrame.from_dict(test_scores)\n",
    "data.to_csv('./scores/test_scores.csv',index = False, header = True)"
   ]
  }
 ],
 "metadata": {
  "kernelspec": {
   "display_name": "Python 3.9.7 64-bit ('anaconda3')",
   "language": "python",
   "name": "python3"
  },
  "language_info": {
   "codemirror_mode": {
    "name": "ipython",
    "version": 3
   },
   "file_extension": ".py",
   "mimetype": "text/x-python",
   "name": "python",
   "nbconvert_exporter": "python",
   "pygments_lexer": "ipython3",
   "version": "3.9.7"
  },
  "vscode": {
   "interpreter": {
    "hash": "26b669ad8bf268938f44ac29f5c4b2ad9da9f9cba6d60b038579058dbb91077c"
   }
  }
 },
 "nbformat": 4,
 "nbformat_minor": 5
}
